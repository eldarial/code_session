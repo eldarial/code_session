{
 "cells": [
  {
   "cell_type": "code",
   "execution_count": 1,
   "metadata": {
    "collapsed": true
   },
   "outputs": [],
   "source": [
    "%matplotlib inline\n",
    "# modified notebook from http://scikit-learn.org/stable/auto_examples/svm/plot_iris.html"
   ]
  },
  {
   "cell_type": "markdown",
   "metadata": {},
   "source": [
    "\n",
    "# Plot different Supervised classifers in the iris dataset\n",
    "\n",
    "\n",
    "Comparison of different classifiers on a 2D projection of the iris\n",
    "dataset. We only consider the first 2 features of this dataset:\n",
    "\n",
    "- Sepal length\n",
    "- Sepal width\n"
   ]
  },
  {
   "cell_type": "code",
   "execution_count": 2,
   "metadata": {},
   "outputs": [
    {
     "name": "stdout",
     "output_type": "stream",
     "text": [
      "Automatically created module for IPython interactive environment\n"
     ]
    }
   ],
   "source": [
    "print(__doc__)\n",
    "\n",
    "import numpy as np\n",
    "import matplotlib.pyplot as plt\n",
    "from sklearn import svm, datasets\n",
    "from sklearn.tree import DecisionTreeClassifier\n",
    "\n",
    "flag_data = 3\n",
    "flag_features = 0\n",
    "x_train= []\n",
    "x_val = []\n",
    "y_train = []\n",
    "y_val = []\n",
    "\n",
    "# import some data to play with\n",
    "iris = datasets.load_iris()\n",
    "y = iris.target\n",
    "\n",
    "# we only take the first two features. We could\n",
    "# avoid this ugly slicing by using a two-dim dataset\n",
    "if flag_features == 0:\n",
    "    select_features = iris.data[:, :2]\n",
    "    x1_label = 'Sepal length'\n",
    "    x2_label = 'Sepal width'\n",
    "elif flag_features == 1:\n",
    "    select_features = iris.data[:, 1:3]\n",
    "    x1_label = 'Sepal width'\n",
    "    x2_label = 'Petal length'\n",
    "\n",
    "if flag_data == 0:\n",
    "    # take all dataset as training set\n",
    "    x_train = select_features\n",
    "    y_train = iris.target\n",
    "elif flag_data == 1:\n",
    "    # balanced case all three classes have the same ammount of samples\n",
    "    for k in range(3):\n",
    "        id_class = iris.target == k\n",
    "        label_ = iris.target[id_class]\n",
    "        data_ = select_features[id_class,:]\n",
    "        x_train.extend(data_[:40])\n",
    "        y_train.extend(label_[:40])\n",
    "        x_val.extend(data_[40:])\n",
    "        y_val.extend(label_[40:])\n",
    "elif flag_data == 2:\n",
    "    # imbalanced case where one class is \n",
    "    for k in range(3):\n",
    "        if k == 1:\n",
    "            id_class = iris.target == k\n",
    "            label_ = iris.target[id_class]\n",
    "            data_ = select_features[id_class,:]\n",
    "            x_train.extend(data_[:10])\n",
    "            y_train.extend(label_[:10])\n",
    "            x_val.extend(data_[40:])\n",
    "            y_val.extend(label_[40:])\n",
    "        else:\n",
    "            id_class = iris.target == k\n",
    "            label_ = iris.target[id_class]\n",
    "            data_ = select_features[id_class,:]\n",
    "            x_train.extend(data_[:40])\n",
    "            y_train.extend(label_[:40])\n",
    "            x_val.extend(data_[40:])\n",
    "            y_val.extend(label_[40:])\n",
    "elif flag_data == 3:\n",
    "    # overfitting case\n",
    "    for k in range(3):\n",
    "        id_class = iris.target == k\n",
    "        label_ = iris.target[id_class]\n",
    "        data_ = select_features[id_class,:]\n",
    "        x_train.extend(data_[:5])\n",
    "        y_train.extend(label_[:5])\n",
    "        x_val.extend(data_[40:])\n",
    "        y_val.extend(label_[40:])\n",
    "x_train = np.array(x_train)\n",
    "x_val = np.array(x_val)"
   ]
  },
  {
   "cell_type": "markdown",
   "metadata": {},
   "source": [
    "## Dataset information"
   ]
  },
  {
   "cell_type": "markdown",
   "metadata": {},
   "source": [
    "Lets plot a histogram of the classes from the dataset"
   ]
  },
  {
   "cell_type": "code",
   "execution_count": 3,
   "metadata": {},
   "outputs": [
    {
     "data": {
      "text/plain": [
       "<matplotlib.figure.Figure at 0x7f86a1c63910>"
      ]
     },
     "metadata": {},
     "output_type": "display_data"
    },
    {
     "data": {
      "image/png": "[encoded data removed]",
      "text/plain": [
       "<matplotlib.figure.Figure at 0x7f86a1c63950>"
      ]
     },
     "metadata": {},
     "output_type": "display_data"
    },
    {
     "name": "stdout",
     "output_type": "stream",
     "text": [
      "total number of training samples: 15\n"
     ]
    }
   ],
   "source": [
    "hist, _ = np.histogram(y_train, bins=[0, 1, 2, 3])\n",
    "plt.figure()\n",
    "fig, ax = plt.subplots(1,1)\n",
    "\n",
    "width = 0.35\n",
    "ind = np.arange(np.max(y_train) + 1)\n",
    "ax.bar(ind, hist, 0.35)\n",
    "ax.set_title('Histogram of dataset')\n",
    "ax.set_xticks(ind + width / 2)\n",
    "ax.set_xticklabels(('setosa', 'versicolor', 'virginica'))\n",
    "\n",
    "plt.show()\n",
    "print('total number of training samples: {}'.format(np.sum(hist)))"
   ]
  },
  {
   "cell_type": "markdown",
   "metadata": {},
   "source": [
    "## Train classifiers"
   ]
  },
  {
   "cell_type": "code",
   "execution_count": 4,
   "metadata": {
    "collapsed": true
   },
   "outputs": [],
   "source": [
    "# we create an instance of SVM and fit out data. We do not scale our\n",
    "# data since we want to plot the support vectors\n",
    "C = 1.0  # SVM regularization parameter\n",
    "svc_classifier = svm.SVC(kernel='linear', C=C).fit(x_train, y_train)\n",
    "\n",
    "# Radial kernel\n",
    "C = 1.0\n",
    "rbf_classifier = svm.SVC(kernel='rbf', C=C).fit(x_train, y_train)\n",
    "\n",
    "# Decision trees\n",
    "dt_classifier = DecisionTreeClassifier().fit(x_train, y_train)\n",
    "\n",
    "\n",
    "h = .02  # step size in the mesh\n",
    "# create a mesh to plot in\n",
    "x_min, x_max = x_train[:, 0].min() - 1, x_train[:, 0].max() + 1\n",
    "y_min, y_max = x_train[:, 1].min() - 1, x_train[:, 1].max() + 1\n",
    "xx, yy = np.meshgrid(np.arange(x_min, x_max, h),\n",
    "                     np.arange(y_min, y_max, h))"
   ]
  },
  {
   "cell_type": "markdown",
   "metadata": {},
   "source": [
    "## Plot decision boundaries"
   ]
  },
  {
   "cell_type": "code",
   "execution_count": 5,
   "metadata": {},
   "outputs": [
    {
     "data": {
      "image/png": "[encoded data removed]",
      "text/plain": [
       "<matplotlib.figure.Figure at 0x7f8695c6ea10>"
      ]
     },
     "metadata": {},
     "output_type": "display_data"
    }
   ],
   "source": [
    "# title for the plots\n",
    "title = 'SVC with linear kernel'\n",
    "\n",
    "Z = svc_classifier.predict(np.c_[xx.ravel(), yy.ravel()])\n",
    "\n",
    "# Put the result into a color plot\n",
    "Z = Z.reshape(xx.shape)\n",
    "plt.contourf(xx, yy, Z, cmap=plt.cm.coolwarm, alpha=0.6)\n",
    "\n",
    "# Plot also the training points\n",
    "plt.scatter(x_train[:, 0], x_train[:, 1], c=y_train, cmap=plt.cm.coolwarm)\n",
    "plt.xlabel(x1_label)\n",
    "plt.ylabel(x2_label)\n",
    "plt.xlim(xx.min(), xx.max())\n",
    "plt.ylim(yy.min(), yy.max())\n",
    "plt.xticks(())\n",
    "plt.yticks(())\n",
    "plt.title(title)\n",
    "\n",
    "plt.show()"
   ]
  },
  {
   "cell_type": "code",
   "execution_count": 6,
   "metadata": {},
   "outputs": [
    {
     "data": {
      "image/png": "[encoded data removed]",
      "text/plain": [
       "<matplotlib.figure.Figure at 0x7f86930b1410>"
      ]
     },
     "metadata": {},
     "output_type": "display_data"
    }
   ],
   "source": [
    "title = 'Decision tree'\n",
    "\n",
    "Z = dt_classifier.predict(np.c_[xx.ravel(), yy.ravel()])\n",
    "\n",
    "# Put the result into a color plot\n",
    "Z = Z.reshape(xx.shape)\n",
    "plt.contourf(xx, yy, Z, cmap=plt.cm.coolwarm, alpha=0.6)\n",
    "\n",
    "# Plot also the training points\n",
    "plt.scatter(x_train[:, 0], x_train[:, 1], c=y_train, cmap=plt.cm.coolwarm)\n",
    "plt.xlabel(x1_label)\n",
    "plt.ylabel(x2_label)\n",
    "plt.xlim(xx.min(), xx.max())\n",
    "plt.ylim(yy.min(), yy.max())\n",
    "plt.xticks(())\n",
    "plt.yticks(())\n",
    "plt.title(title)\n",
    "\n",
    "plt.show()"
   ]
  },
  {
   "cell_type": "code",
   "execution_count": 7,
   "metadata": {},
   "outputs": [
    {
     "data": {
      "image/png": "[encoded data removed]",
      "text/plain": [
       "<matplotlib.figure.Figure at 0x7f86a1c63050>"
      ]
     },
     "metadata": {},
     "output_type": "display_data"
    }
   ],
   "source": [
    "title = 'SVM classifier with rbf kernel'\n",
    "\n",
    "Z = rbf_classifier.predict(np.c_[xx.ravel(), yy.ravel()])\n",
    "\n",
    "# Put the result into a color plot\n",
    "Z = Z.reshape(xx.shape)\n",
    "plt.contourf(xx, yy, Z, cmap=plt.cm.coolwarm, alpha=0.6)\n",
    "\n",
    "# Plot also the training points\n",
    "plt.scatter(x_train[:, 0], x_train[:, 1], c=y_train, cmap=plt.cm.coolwarm)\n",
    "plt.xlabel(x1_label)\n",
    "plt.ylabel(x2_label)\n",
    "plt.xlim(xx.min(), xx.max())\n",
    "plt.ylim(yy.min(), yy.max())\n",
    "plt.xticks(())\n",
    "plt.yticks(())\n",
    "plt.title(title)\n",
    "\n",
    "plt.show()"
   ]
  },
  {
   "cell_type": "markdown",
   "metadata": {},
   "source": [
    "## Accuracy on training and validation set"
   ]
  },
  {
   "cell_type": "markdown",
   "metadata": {},
   "source": [
    "Let's compute each the accuracy for each set"
   ]
  },
  {
   "cell_type": "code",
   "execution_count": 8,
   "metadata": {},
   "outputs": [
    {
     "name": "stdout",
     "output_type": "stream",
     "text": [
      "Training set\n",
      "('Linear SVM accuracy: ', 0.73333333333333328)\n",
      "('Decision Tree accuracy: ', 1.0)\n",
      "('Radial Kernel accuracy: ', 0.80000000000000004)\n",
      "Validation set\n",
      "('Linear SVM accuracy: ', 0.46666666666666667)\n",
      "('Decision Tree accuracy: ', 0.59999999999999998)\n",
      "('Radial Kernel accuracy: ', 0.5)\n"
     ]
    }
   ],
   "source": [
    "# Training set accuracy\n",
    "print('Training set')\n",
    "acc = svc_classifier.score(x_train, y_train)\n",
    "print(\"Linear SVM accuracy: \", acc)\n",
    "acc = dt_classifier.score(x_train, y_train)\n",
    "print(\"Decision Tree accuracy: \", acc)\n",
    "acc = rbf_classifier.score(x_train, y_train)\n",
    "print(\"Radial Kernel accuracy: \", acc)\n",
    "\n",
    "\n",
    "# Validation set accuracy\n",
    "print('Validation set')\n",
    "acc = svc_classifier.score(x_val, y_val)\n",
    "print(\"Linear SVM accuracy: \", acc)\n",
    "acc = dt_classifier.score(x_val, y_val)\n",
    "print(\"Decision Tree accuracy: \", acc)\n",
    "acc = rbf_classifier.score(x_val, y_val)\n",
    "print(\"Radial Kernel accuracy: \", acc)"
   ]
  },
  {
   "cell_type": "code",
   "execution_count": null,
   "metadata": {
    "collapsed": true
   },
   "outputs": [],
   "source": []
  },
  {
   "cell_type": "code",
   "execution_count": null,
   "metadata": {
    "collapsed": true
   },
   "outputs": [],
   "source": []
  },
  {
   "cell_type": "code",
   "execution_count": 10,
   "metadata": {},
   "outputs": [
    {
     "data": {
      "text/plain": [
       "<matplotlib.figure.Figure at 0x7f8692e81310>"
      ]
     },
     "metadata": {},
     "output_type": "display_data"
    },
    {
     "data": {
      "image/png": "[encoded data removed]",
      "text/plain": [
       "<matplotlib.figure.Figure at 0x7f8692e81490>"
      ]
     },
     "metadata": {},
     "output_type": "display_data"
    }
   ],
   "source": [
    "plt.figure()\n",
    "fig, ax = plt.subplots(1,1)\n",
    "\n",
    "hist_data = np.array([30,31,32,30])\n",
    "\n",
    "width = 0.35\n",
    "ind = np.arange(4)\n",
    "ax.bar(ind, hist_data, width)\n",
    "ax.set_title('Histogram of dataset')\n",
    "ax.set_xticks(ind)\n",
    "ax.set_xticklabels(('cat', 'horse', 'dog', 'eagle'))\n",
    "\n",
    "plt.show()"
   ]
  },
  {
   "cell_type": "code",
   "execution_count": null,
   "metadata": {
    "collapsed": true
   },
   "outputs": [],
   "source": []
  }
 ],
 "metadata": {
  "anaconda-cloud": {},
  "kernelspec": {
   "display_name": "Python 2",
   "language": "python",
   "name": "python2"
  },
  "language_info": {
   "codemirror_mode": {
    "name": "ipython",
    "version": 2
   },
   "file_extension": ".py",
   "mimetype": "text/x-python",
   "name": "python",
   "nbconvert_exporter": "python",
   "pygments_lexer": "ipython2",
   "version": "2.7.12"
  }
 },
 "nbformat": 4,
 "nbformat_minor": 1
}
